{
 "cells": [
  {
   "cell_type": "code",
   "execution_count": 11,
   "metadata": {},
   "outputs": [],
   "source": [
    "import pickle\n"
   ]
  },
  {
   "cell_type": "code",
   "execution_count": 33,
   "metadata": {},
   "outputs": [
    {
     "name": "stdout",
     "output_type": "stream",
     "text": [
      "Please enter the news text you want to verify: Many countries are enforcing a lockdown to contain the spread of coronavirus, which has already claimed more than 13,000 people and infected over 3 lakh globally. Social media is full of measures taken by respective governments to fight the menace.  Amid this, a post is going viral claiming that Russian President Vladimir Putin has released 800 tigers and lions across the country's streets to force people inside. Facebook page \"Humour TV\" posted a picture of a lion on an empty street with the caption, \"Vladmir Putin has dropped 800 Tigers and lions all over the country to push people to stay home.\"With the help of Google reverse image search, we found a report by \"Daily Mail\" published on April 15, 2016. According to this report, the lion, called Columbus, was brought for filming by a production crew in Johannesburg.  However, another report by \"New York Post\" says the filming was not approved. This report quotes the Johannesburg Roads Agency as saying, \"The filming had not been approved and the film company took a risk by springing the lion without getting the OK to close several roads.\"  The same picture is also viral on WhatsApp with a similar claim. There is a TV 'Breaking News' graphic plate imposed on the picture which says, \"Russia unleashed more than 500 lions on its streets to ensure that people are staying indoors during this pandemic outbreak.\"\n",
      "You entered: Many countries are enforcing a lockdown to contain the spread of coronavirus, which has already claimed more than 13,000 people and infected over 3 lakh globally. Social media is full of measures taken by respective governments to fight the menace.  Amid this, a post is going viral claiming that Russian President Vladimir Putin has released 800 tigers and lions across the country's streets to force people inside. Facebook page \"Humour TV\" posted a picture of a lion on an empty street with the caption, \"Vladmir Putin has dropped 800 Tigers and lions all over the country to push people to stay home.\"With the help of Google reverse image search, we found a report by \"Daily Mail\" published on April 15, 2016. According to this report, the lion, called Columbus, was brought for filming by a production crew in Johannesburg.  However, another report by \"New York Post\" says the filming was not approved. This report quotes the Johannesburg Roads Agency as saying, \"The filming had not been approved and the film company took a risk by springing the lion without getting the OK to close several roads.\"  The same picture is also viral on WhatsApp with a similar claim. There is a TV 'Breaking News' graphic plate imposed on the picture which says, \"Russia unleashed more than 500 lions on its streets to ensure that people are staying indoors during this pandemic outbreak.\"\n",
      "The given statement is  FAKE\n"
     ]
    },
    {
     "ename": "IndexError",
     "evalue": "invalid index to scalar variable.",
     "output_type": "error",
     "traceback": [
      "\u001b[0;31m---------------------------------------------------------------------------\u001b[0m",
      "\u001b[0;31mIndexError\u001b[0m                                Traceback (most recent call last)",
      "\u001b[0;32m<ipython-input-33-d1747565f371>\u001b[0m in \u001b[0;36m<module>\u001b[0;34m\u001b[0m\n\u001b[1;32m     17\u001b[0m \u001b[0;34m\u001b[0m\u001b[0m\n\u001b[1;32m     18\u001b[0m \u001b[0;31m#if __name__ == '__main__':\u001b[0m\u001b[0;34m\u001b[0m\u001b[0;34m\u001b[0m\u001b[0;34m\u001b[0m\u001b[0m\n\u001b[0;32m---> 19\u001b[0;31m \u001b[0mdetecting_fake_news\u001b[0m\u001b[0;34m(\u001b[0m\u001b[0mvar\u001b[0m\u001b[0;34m)\u001b[0m\u001b[0;34m\u001b[0m\u001b[0;34m\u001b[0m\u001b[0m\n\u001b[0m",
      "\u001b[0;32m<ipython-input-33-d1747565f371>\u001b[0m in \u001b[0;36mdetecting_fake_news\u001b[0;34m(var)\u001b[0m\n\u001b[1;32m     13\u001b[0m \u001b[0;34m\u001b[0m\u001b[0m\n\u001b[1;32m     14\u001b[0m     return (print(\"The given statement is \",prediction[0]),\n\u001b[0;32m---> 15\u001b[0;31m         print(\"The truth probability score is \",prob[0][1]))\n\u001b[0m\u001b[1;32m     16\u001b[0m \u001b[0;34m\u001b[0m\u001b[0m\n\u001b[1;32m     17\u001b[0m \u001b[0;34m\u001b[0m\u001b[0m\n",
      "\u001b[0;31mIndexError\u001b[0m: invalid index to scalar variable."
     ]
    }
   ],
   "source": [
    "\n",
    "\n",
    "\n",
    "\n",
    "var = input(\"Please enter the news text you want to verify: \")\n",
    "print(\"You entered: \" + str(var))\n",
    "\n",
    "\n",
    "#function to run for prediction\n",
    "def detecting_fake_news(var):    \n",
    "#retrieving the best model for prediction call\n",
    "    load_model = pickle.load(open('final_model.sav', 'rb'))\n",
    "    prediction = load_model.predict([var])\n",
    "    #prob = load_model.predict_proba([var])\n",
    "    prob = load_model.decision_function([var])\n",
    "\n",
    "\n",
    "    return (print(\"The given statement is \",prediction[0]),\n",
    "        print(\"The truth probability score is \",prob[0][1]))\n",
    "\n",
    "\n",
    "#if __name__ == '__main__':\n",
    "detecting_fake_news(var)"
   ]
  },
  {
   "cell_type": "code",
   "execution_count": null,
   "metadata": {},
   "outputs": [],
   "source": []
  }
 ],
 "metadata": {
  "kernelspec": {
   "display_name": "Python 3",
   "language": "python",
   "name": "python3"
  },
  "language_info": {
   "codemirror_mode": {
    "name": "ipython",
    "version": 3
   },
   "file_extension": ".py",
   "mimetype": "text/x-python",
   "name": "python",
   "nbconvert_exporter": "python",
   "pygments_lexer": "ipython3",
   "version": "3.7.6"
  }
 },
 "nbformat": 4,
 "nbformat_minor": 4
}
